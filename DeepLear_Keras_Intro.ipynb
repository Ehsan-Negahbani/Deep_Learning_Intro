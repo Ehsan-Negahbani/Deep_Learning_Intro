{
 "cells": [
  {
   "cell_type": "markdown",
   "metadata": {},
   "source": [
    "### 1. Import keras"
   ]
  },
  {
   "cell_type": "code",
   "execution_count": 12,
   "metadata": {},
   "outputs": [],
   "source": [
    "import keras\n",
    "import numpy as np"
   ]
  },
  {
   "cell_type": "code",
   "execution_count": 9,
   "metadata": {},
   "outputs": [],
   "source": [
    "from keras.layers import Dense\n",
    "from keras.models import Sequential\n",
    "import numpy as np"
   ]
  },
  {
   "cell_type": "markdown",
   "metadata": {},
   "source": [
    "### 2. Set out the random seed"
   ]
  },
  {
   "cell_type": "code",
   "execution_count": 14,
   "metadata": {},
   "outputs": [],
   "source": [
    "seed = 10\n",
    "np.random.seed(seed)"
   ]
  },
  {
   "cell_type": "markdown",
   "metadata": {},
   "source": [
    "### 3. Import dataset"
   ]
  },
  {
   "cell_type": "code",
   "execution_count": 20,
   "metadata": {},
   "outputs": [
    {
     "data": {
      "text/html": [
       "<div>\n",
       "<style scoped>\n",
       "    .dataframe tbody tr th:only-of-type {\n",
       "        vertical-align: middle;\n",
       "    }\n",
       "\n",
       "    .dataframe tbody tr th {\n",
       "        vertical-align: top;\n",
       "    }\n",
       "\n",
       "    .dataframe thead th {\n",
       "        text-align: right;\n",
       "    }\n",
       "</style>\n",
       "<table border=\"1\" class=\"dataframe\">\n",
       "  <thead>\n",
       "    <tr style=\"text-align: right;\">\n",
       "      <th></th>\n",
       "      <th>MaritalStatus</th>\n",
       "      <th>Gender</th>\n",
       "      <th>YearlyIncome</th>\n",
       "      <th>TotalChildren</th>\n",
       "      <th>NumberChildrenAtHome</th>\n",
       "      <th>EnglishEducation</th>\n",
       "      <th>HouseOwnerFlag</th>\n",
       "      <th>NumberCarsOwned</th>\n",
       "      <th>CommuteDistance</th>\n",
       "      <th>Region</th>\n",
       "      <th>Age</th>\n",
       "      <th>BikeBuyer</th>\n",
       "    </tr>\n",
       "  </thead>\n",
       "  <tbody>\n",
       "    <tr>\n",
       "      <th>0</th>\n",
       "      <td>5</td>\n",
       "      <td>1</td>\n",
       "      <td>90000</td>\n",
       "      <td>2</td>\n",
       "      <td>0</td>\n",
       "      <td>5</td>\n",
       "      <td>1</td>\n",
       "      <td>0</td>\n",
       "      <td>2</td>\n",
       "      <td>2</td>\n",
       "      <td>50</td>\n",
       "      <td>1</td>\n",
       "    </tr>\n",
       "    <tr>\n",
       "      <th>1</th>\n",
       "      <td>5</td>\n",
       "      <td>1</td>\n",
       "      <td>60000</td>\n",
       "      <td>3</td>\n",
       "      <td>3</td>\n",
       "      <td>5</td>\n",
       "      <td>0</td>\n",
       "      <td>1</td>\n",
       "      <td>1</td>\n",
       "      <td>2</td>\n",
       "      <td>51</td>\n",
       "      <td>1</td>\n",
       "    </tr>\n",
       "    <tr>\n",
       "      <th>2</th>\n",
       "      <td>5</td>\n",
       "      <td>1</td>\n",
       "      <td>60000</td>\n",
       "      <td>3</td>\n",
       "      <td>3</td>\n",
       "      <td>5</td>\n",
       "      <td>1</td>\n",
       "      <td>1</td>\n",
       "      <td>5</td>\n",
       "      <td>2</td>\n",
       "      <td>51</td>\n",
       "      <td>1</td>\n",
       "    </tr>\n",
       "    <tr>\n",
       "      <th>3</th>\n",
       "      <td>5</td>\n",
       "      <td>2</td>\n",
       "      <td>70000</td>\n",
       "      <td>0</td>\n",
       "      <td>0</td>\n",
       "      <td>5</td>\n",
       "      <td>0</td>\n",
       "      <td>1</td>\n",
       "      <td>10</td>\n",
       "      <td>2</td>\n",
       "      <td>49</td>\n",
       "      <td>1</td>\n",
       "    </tr>\n",
       "    <tr>\n",
       "      <th>4</th>\n",
       "      <td>5</td>\n",
       "      <td>2</td>\n",
       "      <td>80000</td>\n",
       "      <td>5</td>\n",
       "      <td>5</td>\n",
       "      <td>5</td>\n",
       "      <td>1</td>\n",
       "      <td>4</td>\n",
       "      <td>2</td>\n",
       "      <td>2</td>\n",
       "      <td>48</td>\n",
       "      <td>1</td>\n",
       "    </tr>\n",
       "  </tbody>\n",
       "</table>\n",
       "</div>"
      ],
      "text/plain": [
       "   MaritalStatus  Gender  YearlyIncome  TotalChildren  NumberChildrenAtHome  \\\n",
       "0              5       1         90000              2                     0   \n",
       "1              5       1         60000              3                     3   \n",
       "2              5       1         60000              3                     3   \n",
       "3              5       2         70000              0                     0   \n",
       "4              5       2         80000              5                     5   \n",
       "\n",
       "   EnglishEducation  HouseOwnerFlag  NumberCarsOwned  CommuteDistance  Region  \\\n",
       "0                 5               1                0                2       2   \n",
       "1                 5               0                1                1       2   \n",
       "2                 5               1                1                5       2   \n",
       "3                 5               0                1               10       2   \n",
       "4                 5               1                4                2       2   \n",
       "\n",
       "   Age  BikeBuyer  \n",
       "0   50          1  \n",
       "1   51          1  \n",
       "2   51          1  \n",
       "3   49          1  \n",
       "4   48          1  "
      ]
     },
     "execution_count": 20,
     "metadata": {},
     "output_type": "execute_result"
    }
   ],
   "source": [
    "from pandas import read_csv\n",
    "filename = 'BBC.csv'\n",
    "dataframe = read_csv(filename)\n",
    "dataframe.head()"
   ]
  },
  {
   "cell_type": "code",
   "execution_count": 21,
   "metadata": {},
   "outputs": [
    {
     "name": "stdout",
     "output_type": "stream",
     "text": [
      "18484, 12\n"
     ]
    }
   ],
   "source": [
    "print('{}, {}'.format(dataframe.shape[0], dataframe.shape[1]))"
   ]
  },
  {
   "cell_type": "markdown",
   "metadata": {},
   "source": [
    "### 4. Split the output variable (as array)"
   ]
  },
  {
   "cell_type": "code",
   "execution_count": 22,
   "metadata": {},
   "outputs": [],
   "source": [
    "array = dataframe.values\n",
    "X = array[:, 0:11]\n",
    "Y = array[:, 11]\n"
   ]
  },
  {
   "cell_type": "markdown",
   "metadata": {},
   "source": [
    "### 5. Build the deep learning model"
   ]
  },
  {
   "cell_type": "code",
   "execution_count": 24,
   "metadata": {},
   "outputs": [
    {
     "name": "stdout",
     "output_type": "stream",
     "text": [
      "_________________________________________________________________\n",
      "Layer (type)                 Output Shape              Param #   \n",
      "=================================================================\n",
      "dense_1 (Dense)              (None, 11)                132       \n",
      "_________________________________________________________________\n",
      "dense_2 (Dense)              (None, 8)                 96        \n",
      "_________________________________________________________________\n",
      "dense_3 (Dense)              (None, 8)                 72        \n",
      "_________________________________________________________________\n",
      "dense_4 (Dense)              (None, 1)                 9         \n",
      "=================================================================\n",
      "Total params: 309\n",
      "Trainable params: 309\n",
      "Non-trainable params: 0\n",
      "_________________________________________________________________\n"
     ]
    },
    {
     "name": "stderr",
     "output_type": "stream",
     "text": [
      "/Users/ehsannegahbani/anaconda3/lib/python3.6/site-packages/ipykernel_launcher.py:2: UserWarning: Update your `Dense` call to the Keras 2 API: `Dense(11, input_dim=11, activation=\"relu\", kernel_initializer=\"uniform\")`\n",
      "  \n",
      "/Users/ehsannegahbani/anaconda3/lib/python3.6/site-packages/ipykernel_launcher.py:3: UserWarning: Update your `Dense` call to the Keras 2 API: `Dense(8, activation=\"relu\", kernel_initializer=\"uniform\")`\n",
      "  This is separate from the ipykernel package so we can avoid doing imports until\n",
      "/Users/ehsannegahbani/anaconda3/lib/python3.6/site-packages/ipykernel_launcher.py:4: UserWarning: Update your `Dense` call to the Keras 2 API: `Dense(8, activation=\"relu\", kernel_initializer=\"uniform\")`\n",
      "  after removing the cwd from sys.path.\n",
      "/Users/ehsannegahbani/anaconda3/lib/python3.6/site-packages/ipykernel_launcher.py:5: UserWarning: Update your `Dense` call to the Keras 2 API: `Dense(1, activation=\"sigmoid\", kernel_initializer=\"uniform\")`\n",
      "  \"\"\"\n"
     ]
    }
   ],
   "source": [
    "model = Sequential()\n",
    "model.add(Dense(11, input_dim=11, init='uniform', activation='relu')) # relu: rectifier activation function\n",
    "model.add(Dense(8, init='uniform', activation='relu'))\n",
    "model.add(Dense(8, init='uniform', activation='relu'))\n",
    "model.add(Dense(1, init='uniform', activation='sigmoid'))\n",
    "model.summary()"
   ]
  },
  {
   "cell_type": "markdown",
   "metadata": {},
   "source": [
    "### 6. Compile the model"
   ]
  },
  {
   "cell_type": "code",
   "execution_count": 27,
   "metadata": {},
   "outputs": [],
   "source": [
    "model.compile(loss = 'binary_crossentropy', optimizer='adam', metrics=['accuracy'])"
   ]
  },
  {
   "cell_type": "markdown",
   "metadata": {},
   "source": [
    "### 7. Fit (train) the model"
   ]
  },
  {
   "cell_type": "code",
   "execution_count": 28,
   "metadata": {},
   "outputs": [
    {
     "name": "stderr",
     "output_type": "stream",
     "text": [
      "/Users/ehsannegahbani/anaconda3/lib/python3.6/site-packages/ipykernel_launcher.py:1: UserWarning: The `nb_epoch` argument in `fit` has been renamed `epochs`.\n",
      "  \"\"\"Entry point for launching an IPython kernel.\n"
     ]
    },
    {
     "name": "stdout",
     "output_type": "stream",
     "text": [
      "Epoch 1/50\n",
      "18484/18484 [==============================] - 2s 111us/step - loss: 0.6933 - acc: 0.5042\n",
      "Epoch 2/50\n",
      "18484/18484 [==============================] - 2s 98us/step - loss: 0.6931 - acc: 0.5060\n",
      "Epoch 3/50\n",
      "18484/18484 [==============================] - 2s 114us/step - loss: 0.6931 - acc: 0.5060\n",
      "Epoch 4/50\n",
      "18484/18484 [==============================] - 2s 101us/step - loss: 0.6931 - acc: 0.5060\n",
      "Epoch 5/50\n",
      "18484/18484 [==============================] - 2s 98us/step - loss: 0.6931 - acc: 0.5043\n",
      "Epoch 6/50\n",
      "18484/18484 [==============================] - 2s 104us/step - loss: 0.6932 - acc: 0.5060\n",
      "Epoch 7/50\n",
      "18484/18484 [==============================] - 2s 103us/step - loss: 0.6931 - acc: 0.5037\n",
      "Epoch 8/50\n",
      "18484/18484 [==============================] - 2s 100us/step - loss: 0.6931 - acc: 0.5060\n",
      "Epoch 9/50\n",
      "18484/18484 [==============================] - 2s 107us/step - loss: 0.6932 - acc: 0.5060\n",
      "Epoch 10/50\n",
      "18484/18484 [==============================] - 2s 97us/step - loss: 0.6931 - acc: 0.5060\n",
      "Epoch 11/50\n",
      "18484/18484 [==============================] - 2s 99us/step - loss: 0.6931 - acc: 0.5044\n",
      "Epoch 12/50\n",
      "18484/18484 [==============================] - 2s 101us/step - loss: 0.6931 - acc: 0.5060\n",
      "Epoch 13/50\n",
      "18484/18484 [==============================] - 2s 100us/step - loss: 0.6931 - acc: 0.5060\n",
      "Epoch 14/50\n",
      "18484/18484 [==============================] - 2s 100us/step - loss: 0.6931 - acc: 0.5060\n",
      "Epoch 15/50\n",
      "18484/18484 [==============================] - 2s 98us/step - loss: 0.6931 - acc: 0.5060\n",
      "Epoch 16/50\n",
      "18484/18484 [==============================] - 2s 97us/step - loss: 0.6931 - acc: 0.5060\n",
      "Epoch 17/50\n",
      "18484/18484 [==============================] - 2s 97us/step - loss: 0.6931 - acc: 0.5053\n",
      "Epoch 18/50\n",
      "18484/18484 [==============================] - 2s 97us/step - loss: 0.6931 - acc: 0.5060\n",
      "Epoch 19/50\n",
      "18484/18484 [==============================] - 2s 111us/step - loss: 0.6931 - acc: 0.5053\n",
      "Epoch 20/50\n",
      "18484/18484 [==============================] - 2s 117us/step - loss: 0.6931 - acc: 0.5031\n",
      "Epoch 21/50\n",
      "18484/18484 [==============================] - 2s 98us/step - loss: 0.6931 - acc: 0.5060\n",
      "Epoch 22/50\n",
      "18484/18484 [==============================] - 2s 99us/step - loss: 0.6931 - acc: 0.5060\n",
      "Epoch 23/50\n",
      "18484/18484 [==============================] - 2s 99us/step - loss: 0.6931 - acc: 0.5051\n",
      "Epoch 24/50\n",
      "18484/18484 [==============================] - 2s 98us/step - loss: 0.6931 - acc: 0.5060\n",
      "Epoch 25/50\n",
      "18484/18484 [==============================] - 2s 98us/step - loss: 0.6931 - acc: 0.5040\n",
      "Epoch 26/50\n",
      "18484/18484 [==============================] - 2s 99us/step - loss: 0.6931 - acc: 0.5060\n",
      "Epoch 27/50\n",
      "18484/18484 [==============================] - 2s 98us/step - loss: 0.6931 - acc: 0.5060\n",
      "Epoch 28/50\n",
      "18484/18484 [==============================] - 2s 98us/step - loss: 0.6931 - acc: 0.5060\n",
      "Epoch 29/50\n",
      "18484/18484 [==============================] - 2s 100us/step - loss: 0.6931 - acc: 0.5023\n",
      "Epoch 30/50\n",
      "18484/18484 [==============================] - 2s 100us/step - loss: 0.6931 - acc: 0.5060\n",
      "Epoch 31/50\n",
      "18484/18484 [==============================] - 2s 99us/step - loss: 0.6931 - acc: 0.5049\n",
      "Epoch 32/50\n",
      "18484/18484 [==============================] - 2s 98us/step - loss: 0.6931 - acc: 0.5054\n",
      "Epoch 33/50\n",
      "18484/18484 [==============================] - 2s 98us/step - loss: 0.6932 - acc: 0.5060\n",
      "Epoch 34/50\n",
      "18484/18484 [==============================] - 2s 102us/step - loss: 0.6931 - acc: 0.5060\n",
      "Epoch 35/50\n",
      "18484/18484 [==============================] - 2s 102us/step - loss: 0.6931 - acc: 0.5044\n",
      "Epoch 36/50\n",
      "18484/18484 [==============================] - 2s 102us/step - loss: 0.6931 - acc: 0.5016\n",
      "Epoch 37/50\n",
      "18484/18484 [==============================] - 2s 101us/step - loss: 0.6932 - acc: 0.5060\n",
      "Epoch 38/50\n",
      "18484/18484 [==============================] - 2s 99us/step - loss: 0.6931 - acc: 0.5048\n",
      "Epoch 39/50\n",
      "18484/18484 [==============================] - 2s 105us/step - loss: 0.6932 - acc: 0.5050\n",
      "Epoch 40/50\n",
      "18484/18484 [==============================] - 2s 100us/step - loss: 0.6932 - acc: 0.5060\n",
      "Epoch 41/50\n",
      "18484/18484 [==============================] - 2s 97us/step - loss: 0.6932 - acc: 0.5030\n",
      "Epoch 42/50\n",
      "18484/18484 [==============================] - 2s 97us/step - loss: 0.6931 - acc: 0.5060\n",
      "Epoch 43/50\n",
      "18484/18484 [==============================] - 2s 97us/step - loss: 0.6931 - acc: 0.5060\n",
      "Epoch 44/50\n",
      "18484/18484 [==============================] - 2s 97us/step - loss: 0.6931 - acc: 0.5043\n",
      "Epoch 45/50\n",
      "18484/18484 [==============================] - 2s 102us/step - loss: 0.6931 - acc: 0.5014\n",
      "Epoch 46/50\n",
      "18484/18484 [==============================] - 2s 98us/step - loss: 0.6931 - acc: 0.5060\n",
      "Epoch 47/50\n",
      "18484/18484 [==============================] - 2s 103us/step - loss: 0.6932 - acc: 0.5060\n",
      "Epoch 48/50\n",
      "18484/18484 [==============================] - 2s 118us/step - loss: 0.6931 - acc: 0.5060\n",
      "Epoch 49/50\n",
      "18484/18484 [==============================] - 2s 106us/step - loss: 0.6931 - acc: 0.5048\n",
      "Epoch 50/50\n",
      "18484/18484 [==============================] - 2s 106us/step - loss: 0.6931 - acc: 0.5060\n"
     ]
    },
    {
     "data": {
      "text/plain": [
       "<keras.callbacks.History at 0x1105c2828>"
      ]
     },
     "execution_count": 28,
     "metadata": {},
     "output_type": "execute_result"
    }
   ],
   "source": [
    "model.fit(X, Y, nb_epoch = 50, batch_size=10)"
   ]
  },
  {
   "cell_type": "markdown",
   "metadata": {},
   "source": [
    "### 8. Evaluate (score) the model"
   ]
  },
  {
   "cell_type": "code",
   "execution_count": 53,
   "metadata": {},
   "outputs": [
    {
     "name": "stdout",
     "output_type": "stream",
     "text": [
      "18484/18484 [==============================] - 0s 10us/step\n",
      "Model loss = %50.595\n"
     ]
    }
   ],
   "source": [
    "score = model.evaluate(X, Y)\n",
    "print('Model {} = %{:3.5}'.format(model.metrics_names[1], score[1]*100))"
   ]
  },
  {
   "cell_type": "markdown",
   "metadata": {},
   "source": [
    "### 9. Tune model parameters to improve model accuracy   \n",
    "Try tuning these parameters:\n",
    "1. Scale (normalize the columns)\n",
    "2. Add another layer to the neural network\n",
    "3. Increase the number of neurons in the neural network\n",
    "4. Increase the number of epochs from 50 to 200"
   ]
  },
  {
   "cell_type": "markdown",
   "metadata": {},
   "source": [
    "#### 9.1. Normalize the columns"
   ]
  },
  {
   "cell_type": "code",
   "execution_count": 140,
   "metadata": {},
   "outputs": [
    {
     "name": "stderr",
     "output_type": "stream",
     "text": [
      "/Users/ehsannegahbani/anaconda3/lib/python3.6/site-packages/ipykernel_launcher.py:10: SettingWithCopyWarning: \n",
      "A value is trying to be set on a copy of a slice from a DataFrame.\n",
      "Try using .loc[row_indexer,col_indexer] = value instead\n",
      "\n",
      "See the caveats in the documentation: http://pandas.pydata.org/pandas-docs/stable/indexing.html#indexing-view-versus-copy\n",
      "  # Remove the CWD from sys.path while we load stuff.\n",
      "/Users/ehsannegahbani/anaconda3/lib/python3.6/site-packages/pandas/core/indexing.py:543: SettingWithCopyWarning: \n",
      "A value is trying to be set on a copy of a slice from a DataFrame.\n",
      "Try using .loc[row_indexer,col_indexer] = value instead\n",
      "\n",
      "See the caveats in the documentation: http://pandas.pydata.org/pandas-docs/stable/indexing.html#indexing-view-versus-copy\n",
      "  self.obj[item] = s\n"
     ]
    }
   ],
   "source": [
    "import pandas as pd\n",
    "\n",
    "\n",
    "# Among many possible scaling methods let's try two methods:\n",
    "# 1. transforming to an specific range (default: 0, 1 )\n",
    "# from sklearn.preprocessing import MinMaxScaler\n",
    "# scaler = MinMaxScaler()\n",
    "# X2 = dataframe.iloc[:, 0:11]\n",
    "# X2[['YearlyIncome', 'Age']] = scaler.fit_transform(X2[['YearlyIncome', 'Age']])\n",
    "\n",
    "# 2. =Z-score \n",
    "from sklearn.preprocessing import StandardScaler\n",
    "stdScaler = StandardScaler()\n",
    "X2[['YearlyIncome', 'Age']] = stdScaler.fit_transform(X2[['YearlyIncome', 'Age']])\n",
    "# X = preprocessing.StandardScaler().fit(X).transform(X.astype(float))\n"
   ]
  },
  {
   "cell_type": "code",
   "execution_count": 141,
   "metadata": {},
   "outputs": [
    {
     "name": "stderr",
     "output_type": "stream",
     "text": [
      "/Users/ehsannegahbani/anaconda3/lib/python3.6/site-packages/ipykernel_launcher.py:3: UserWarning: Update your `Dense` call to the Keras 2 API: `Dense(11, input_dim=11, activation=\"relu\", kernel_initializer=\"uniform\")`\n",
      "  This is separate from the ipykernel package so we can avoid doing imports until\n",
      "/Users/ehsannegahbani/anaconda3/lib/python3.6/site-packages/ipykernel_launcher.py:4: UserWarning: Update your `Dense` call to the Keras 2 API: `Dense(8, activation=\"relu\", kernel_initializer=\"uniform\")`\n",
      "  after removing the cwd from sys.path.\n",
      "/Users/ehsannegahbani/anaconda3/lib/python3.6/site-packages/ipykernel_launcher.py:5: UserWarning: Update your `Dense` call to the Keras 2 API: `Dense(8, activation=\"relu\", kernel_initializer=\"uniform\")`\n",
      "  \"\"\"\n",
      "/Users/ehsannegahbani/anaconda3/lib/python3.6/site-packages/ipykernel_launcher.py:6: UserWarning: Update your `Dense` call to the Keras 2 API: `Dense(1, activation=\"sigmoid\", kernel_initializer=\"uniform\")`\n",
      "  \n"
     ]
    }
   ],
   "source": [
    "#Build model\n",
    "model = Sequential()\n",
    "model.add(Dense(11, input_dim=11, init='uniform', activation='relu')) # relu: rectifier activation function\n",
    "model.add(Dense(8, init='uniform', activation='relu'))\n",
    "model.add(Dense(8, init='uniform', activation='relu'))\n",
    "model.add(Dense(1, init='uniform', activation='sigmoid'))"
   ]
  },
  {
   "cell_type": "code",
   "execution_count": 142,
   "metadata": {},
   "outputs": [],
   "source": [
    "# Compile the model\n",
    "model.compile(loss='binary_crossentropy', optimizer='adam', metrics=['accuracy'])"
   ]
  },
  {
   "cell_type": "code",
   "execution_count": 144,
   "metadata": {},
   "outputs": [
    {
     "name": "stderr",
     "output_type": "stream",
     "text": [
      "/Users/ehsannegahbani/anaconda3/lib/python3.6/site-packages/ipykernel_launcher.py:2: UserWarning: The `nb_epoch` argument in `fit` has been renamed `epochs`.\n",
      "  \n"
     ]
    },
    {
     "name": "stdout",
     "output_type": "stream",
     "text": [
      "Epoch 1/50\n",
      "18484/18484 [==============================] - 2s 125us/step - loss: 0.6647 - acc: 0.6031\n",
      "Epoch 2/50\n",
      "18484/18484 [==============================] - 2s 106us/step - loss: 0.6469 - acc: 0.6235\n",
      "Epoch 3/50\n",
      "18484/18484 [==============================] - 2s 109us/step - loss: 0.6388 - acc: 0.6356\n",
      "Epoch 4/50\n",
      "18484/18484 [==============================] - 2s 108us/step - loss: 0.6358 - acc: 0.6378\n",
      "Epoch 5/50\n",
      "18484/18484 [==============================] - 2s 108us/step - loss: 0.6324 - acc: 0.6455\n",
      "Epoch 6/50\n",
      "18484/18484 [==============================] - 2s 108us/step - loss: 0.6320 - acc: 0.6459\n",
      "Epoch 7/50\n",
      "18484/18484 [==============================] - 2s 114us/step - loss: 0.6299 - acc: 0.6483\n",
      "Epoch 8/50\n",
      "18484/18484 [==============================] - 2s 110us/step - loss: 0.6279 - acc: 0.6500\n",
      "Epoch 9/50\n",
      "18484/18484 [==============================] - 2s 108us/step - loss: 0.6262 - acc: 0.6506\n",
      "Epoch 10/50\n",
      "18484/18484 [==============================] - 2s 109us/step - loss: 0.6243 - acc: 0.6553\n",
      "Epoch 11/50\n",
      "18484/18484 [==============================] - 2s 111us/step - loss: 0.6217 - acc: 0.6571\n",
      "Epoch 12/50\n",
      "18484/18484 [==============================] - 2s 109us/step - loss: 0.6182 - acc: 0.6578\n",
      "Epoch 13/50\n",
      "18484/18484 [==============================] - 2s 109us/step - loss: 0.6164 - acc: 0.6569\n",
      "Epoch 14/50\n",
      "18484/18484 [==============================] - 2s 110us/step - loss: 0.6147 - acc: 0.6578\n",
      "Epoch 15/50\n",
      "18484/18484 [==============================] - 2s 119us/step - loss: 0.6131 - acc: 0.6622\n",
      "Epoch 16/50\n",
      "18484/18484 [==============================] - 2s 117us/step - loss: 0.6115 - acc: 0.6643\n",
      "Epoch 17/50\n",
      "18484/18484 [==============================] - 2s 115us/step - loss: 0.6097 - acc: 0.6661\n",
      "Epoch 18/50\n",
      "18484/18484 [==============================] - 2s 110us/step - loss: 0.6083 - acc: 0.6685\n",
      "Epoch 19/50\n",
      "18484/18484 [==============================] - 2s 109us/step - loss: 0.6064 - acc: 0.6710\n",
      "Epoch 20/50\n",
      "18484/18484 [==============================] - 2s 114us/step - loss: 0.6038 - acc: 0.6721\n",
      "Epoch 21/50\n",
      "18484/18484 [==============================] - 2s 111us/step - loss: 0.6029 - acc: 0.6726\n",
      "Epoch 22/50\n",
      "18484/18484 [==============================] - 2s 109us/step - loss: 0.6010 - acc: 0.6744\n",
      "Epoch 23/50\n",
      "18484/18484 [==============================] - 2s 117us/step - loss: 0.5995 - acc: 0.6746\n",
      "Epoch 24/50\n",
      "18484/18484 [==============================] - 2s 116us/step - loss: 0.5992 - acc: 0.6739\n",
      "Epoch 25/50\n",
      "18484/18484 [==============================] - 2s 109us/step - loss: 0.5986 - acc: 0.6782\n",
      "Epoch 26/50\n",
      "18484/18484 [==============================] - 2s 110us/step - loss: 0.5965 - acc: 0.6808\n",
      "Epoch 27/50\n",
      "18484/18484 [==============================] - 2s 111us/step - loss: 0.5959 - acc: 0.6781\n",
      "Epoch 28/50\n",
      "18484/18484 [==============================] - 2s 110us/step - loss: 0.5936 - acc: 0.6820\n",
      "Epoch 29/50\n",
      "18484/18484 [==============================] - 2s 110us/step - loss: 0.5939 - acc: 0.6812\n",
      "Epoch 30/50\n",
      "18484/18484 [==============================] - 2s 110us/step - loss: 0.5922 - acc: 0.6831\n",
      "Epoch 31/50\n",
      "18484/18484 [==============================] - 2s 110us/step - loss: 0.5917 - acc: 0.6839\n",
      "Epoch 32/50\n",
      "18484/18484 [==============================] - 2s 109us/step - loss: 0.5911 - acc: 0.6822\n",
      "Epoch 33/50\n",
      "18484/18484 [==============================] - 2s 110us/step - loss: 0.5891 - acc: 0.6869\n",
      "Epoch 34/50\n",
      "18484/18484 [==============================] - 2s 109us/step - loss: 0.5877 - acc: 0.6877\n",
      "Epoch 35/50\n",
      "18484/18484 [==============================] - 2s 111us/step - loss: 0.5875 - acc: 0.6876\n",
      "Epoch 36/50\n",
      "18484/18484 [==============================] - 2s 110us/step - loss: 0.5866 - acc: 0.6880\n",
      "Epoch 37/50\n",
      "18484/18484 [==============================] - 2s 109us/step - loss: 0.5870 - acc: 0.6874\n",
      "Epoch 38/50\n",
      "18484/18484 [==============================] - 2s 111us/step - loss: 0.5847 - acc: 0.6910\n",
      "Epoch 39/50\n",
      "18484/18484 [==============================] - 2s 110us/step - loss: 0.5843 - acc: 0.6917\n",
      "Epoch 40/50\n",
      "18484/18484 [==============================] - 2s 111us/step - loss: 0.5822 - acc: 0.6935\n",
      "Epoch 41/50\n",
      "18484/18484 [==============================] - 2s 110us/step - loss: 0.5820 - acc: 0.6945\n",
      "Epoch 42/50\n",
      "18484/18484 [==============================] - 2s 109us/step - loss: 0.5812 - acc: 0.6935\n",
      "Epoch 43/50\n",
      "18484/18484 [==============================] - 2s 110us/step - loss: 0.5801 - acc: 0.6988\n",
      "Epoch 44/50\n",
      "18484/18484 [==============================] - 2s 116us/step - loss: 0.5786 - acc: 0.6964\n",
      "Epoch 45/50\n",
      "18484/18484 [==============================] - 2s 115us/step - loss: 0.5782 - acc: 0.6994\n",
      "Epoch 46/50\n",
      "18484/18484 [==============================] - 2s 112us/step - loss: 0.5778 - acc: 0.7021\n",
      "Epoch 47/50\n",
      "18484/18484 [==============================] - 2s 112us/step - loss: 0.5770 - acc: 0.7018\n",
      "Epoch 48/50\n",
      "18484/18484 [==============================] - 2s 110us/step - loss: 0.5749 - acc: 0.7040\n",
      "Epoch 49/50\n",
      "18484/18484 [==============================] - 2s 111us/step - loss: 0.5763 - acc: 0.7048\n",
      "Epoch 50/50\n",
      "18484/18484 [==============================] - 2s 110us/step - loss: 0.5737 - acc: 0.7089\n"
     ]
    },
    {
     "data": {
      "text/plain": [
       "<keras.callbacks.History at 0x1a2d52ae80>"
      ]
     },
     "execution_count": 144,
     "metadata": {},
     "output_type": "execute_result"
    }
   ],
   "source": [
    "# Fit the model\n",
    "model.fit(X2, Y, nb_epoch = 50, batch_size = 10)"
   ]
  },
  {
   "cell_type": "code",
   "execution_count": 145,
   "metadata": {},
   "outputs": [
    {
     "name": "stdout",
     "output_type": "stream",
     "text": [
      "18484/18484 [==============================] - 0s 12us/step\n",
      "Model acc = 70.33109716253605\n"
     ]
    }
   ],
   "source": [
    "# Evaluate (score) the model\n",
    "score = model.evaluate(X2, Y)\n",
    "print('Model {} = {}'.format(model.metrics_names[1], score[1]*100))"
   ]
  },
  {
   "cell_type": "markdown",
   "metadata": {},
   "source": [
    "This is a massive improvement just by using the scaled values."
   ]
  },
  {
   "cell_type": "markdown",
   "metadata": {},
   "source": [
    "#### 9.2. Add another layer to the neural network"
   ]
  },
  {
   "cell_type": "code",
   "execution_count": 146,
   "metadata": {
    "scrolled": false
   },
   "outputs": [
    {
     "name": "stderr",
     "output_type": "stream",
     "text": [
      "/Users/ehsannegahbani/anaconda3/lib/python3.6/site-packages/ipykernel_launcher.py:2: UserWarning: Update your `Dense` call to the Keras 2 API: `Dense(11, input_dim=11, activation=\"relu\", kernel_initializer=\"uniform\")`\n",
      "  \n",
      "/Users/ehsannegahbani/anaconda3/lib/python3.6/site-packages/ipykernel_launcher.py:3: UserWarning: Update your `Dense` call to the Keras 2 API: `Dense(8, activation=\"relu\", kernel_initializer=\"uniform\")`\n",
      "  This is separate from the ipykernel package so we can avoid doing imports until\n",
      "/Users/ehsannegahbani/anaconda3/lib/python3.6/site-packages/ipykernel_launcher.py:4: UserWarning: Update your `Dense` call to the Keras 2 API: `Dense(8, activation=\"relu\", kernel_initializer=\"uniform\")`\n",
      "  after removing the cwd from sys.path.\n",
      "/Users/ehsannegahbani/anaconda3/lib/python3.6/site-packages/ipykernel_launcher.py:5: UserWarning: Update your `Dense` call to the Keras 2 API: `Dense(8, activation=\"relu\", kernel_initializer=\"uniform\")`\n",
      "  \"\"\"\n",
      "/Users/ehsannegahbani/anaconda3/lib/python3.6/site-packages/ipykernel_launcher.py:6: UserWarning: Update your `Dense` call to the Keras 2 API: `Dense(1, activation=\"sigmoid\", kernel_initializer=\"uniform\")`\n",
      "  \n"
     ]
    }
   ],
   "source": [
    "model = Sequential()\n",
    "model.add(Dense(11, input_dim=11, init='uniform', activation='relu')) # relu: rectifier activation function\n",
    "model.add(Dense(8, init='uniform', activation='relu'))\n",
    "model.add(Dense(8, init='uniform', activation='relu'))\n",
    "model.add(Dense(8, init='uniform', activation='relu'))\n",
    "model.add(Dense(1, init='uniform', activation='sigmoid'))\n",
    "# model.summary()"
   ]
  },
  {
   "cell_type": "code",
   "execution_count": 147,
   "metadata": {},
   "outputs": [],
   "source": [
    "# Compile the model\n",
    "model.compile(loss = 'binary_crossentropy', optimizer='adam', metrics=['accuracy'])"
   ]
  },
  {
   "cell_type": "code",
   "execution_count": 148,
   "metadata": {
    "scrolled": true
   },
   "outputs": [
    {
     "name": "stderr",
     "output_type": "stream",
     "text": [
      "/Users/ehsannegahbani/anaconda3/lib/python3.6/site-packages/ipykernel_launcher.py:2: UserWarning: The `nb_epoch` argument in `fit` has been renamed `epochs`.\n",
      "  \n"
     ]
    },
    {
     "name": "stdout",
     "output_type": "stream",
     "text": [
      "Epoch 1/50\n",
      "18484/18484 [==============================] - 3s 153us/step - loss: 0.6686 - acc: 0.5912\n",
      "Epoch 2/50\n",
      "18484/18484 [==============================] - 2s 125us/step - loss: 0.6542 - acc: 0.6145\n",
      "Epoch 3/50\n",
      "18484/18484 [==============================] - 3s 137us/step - loss: 0.6493 - acc: 0.6195\n",
      "Epoch 4/50\n",
      "18484/18484 [==============================] - 2s 120us/step - loss: 0.6410 - acc: 0.6321\n",
      "Epoch 5/50\n",
      "18484/18484 [==============================] - 2s 131us/step - loss: 0.6340 - acc: 0.6400\n",
      "Epoch 6/50\n",
      "18484/18484 [==============================] - 2s 118us/step - loss: 0.6308 - acc: 0.6410\n",
      "Epoch 7/50\n",
      "18484/18484 [==============================] - 3s 147us/step - loss: 0.6278 - acc: 0.6445\n",
      "Epoch 8/50\n",
      "18484/18484 [==============================] - 2s 130us/step - loss: 0.6235 - acc: 0.6532\n",
      "Epoch 9/50\n",
      "18484/18484 [==============================] - 3s 152us/step - loss: 0.6196 - acc: 0.6585\n",
      "Epoch 10/50\n",
      "18484/18484 [==============================] - 2s 129us/step - loss: 0.6171 - acc: 0.6582\n",
      "Epoch 11/50\n",
      "18484/18484 [==============================] - 2s 125us/step - loss: 0.6138 - acc: 0.6608\n",
      "Epoch 12/50\n",
      "18484/18484 [==============================] - 2s 124us/step - loss: 0.6114 - acc: 0.6591\n",
      "Epoch 13/50\n",
      "18484/18484 [==============================] - 2s 124us/step - loss: 0.6102 - acc: 0.6618\n",
      "Epoch 14/50\n",
      "18484/18484 [==============================] - 2s 130us/step - loss: 0.6087 - acc: 0.6631\n",
      "Epoch 15/50\n",
      "18484/18484 [==============================] - 2s 127us/step - loss: 0.6065 - acc: 0.6622\n",
      "Epoch 16/50\n",
      "18484/18484 [==============================] - 2s 124us/step - loss: 0.6060 - acc: 0.6623\n",
      "Epoch 17/50\n",
      "18484/18484 [==============================] - 3s 144us/step - loss: 0.6035 - acc: 0.6619\n",
      "Epoch 18/50\n",
      "18484/18484 [==============================] - 2s 123us/step - loss: 0.6027 - acc: 0.6646\n",
      "Epoch 19/50\n",
      "18484/18484 [==============================] - 2s 127us/step - loss: 0.6017 - acc: 0.6667\n",
      "Epoch 20/50\n",
      "18484/18484 [==============================] - 2s 130us/step - loss: 0.6001 - acc: 0.6675\n",
      "Epoch 21/50\n",
      "18484/18484 [==============================] - 2s 133us/step - loss: 0.5985 - acc: 0.6661\n",
      "Epoch 22/50\n",
      "18484/18484 [==============================] - 2s 130us/step - loss: 0.5974 - acc: 0.6681\n",
      "Epoch 23/50\n",
      "18484/18484 [==============================] - 2s 130us/step - loss: 0.5973 - acc: 0.6660\n",
      "Epoch 24/50\n",
      "18484/18484 [==============================] - 3s 139us/step - loss: 0.5957 - acc: 0.6694\n",
      "Epoch 25/50\n",
      "18484/18484 [==============================] - 3s 168us/step - loss: 0.5956 - acc: 0.6690\n",
      "Epoch 26/50\n",
      "18484/18484 [==============================] - 2s 128us/step - loss: 0.5942 - acc: 0.6677\n",
      "Epoch 27/50\n",
      "18484/18484 [==============================] - 2s 128us/step - loss: 0.5931 - acc: 0.6698\n",
      "Epoch 28/50\n",
      "18484/18484 [==============================] - 3s 149us/step - loss: 0.5926 - acc: 0.6719\n",
      "Epoch 29/50\n",
      "18484/18484 [==============================] - 2s 134us/step - loss: 0.5920 - acc: 0.6718\n",
      "Epoch 30/50\n",
      "18484/18484 [==============================] - 3s 140us/step - loss: 0.5911 - acc: 0.6699\n",
      "Epoch 31/50\n",
      "18484/18484 [==============================] - 2s 126us/step - loss: 0.5901 - acc: 0.6709\n",
      "Epoch 32/50\n",
      "18484/18484 [==============================] - 2s 126us/step - loss: 0.5905 - acc: 0.6733\n",
      "Epoch 33/50\n",
      "18484/18484 [==============================] - 2s 128us/step - loss: 0.5903 - acc: 0.6744\n",
      "Epoch 34/50\n",
      "18484/18484 [==============================] - 2s 123us/step - loss: 0.5877 - acc: 0.6737\n",
      "Epoch 35/50\n",
      "18484/18484 [==============================] - 3s 139us/step - loss: 0.5873 - acc: 0.6798\n",
      "Epoch 36/50\n",
      "18484/18484 [==============================] - 2s 128us/step - loss: 0.5865 - acc: 0.6750\n",
      "Epoch 37/50\n",
      "18484/18484 [==============================] - 2s 128us/step - loss: 0.5845 - acc: 0.6764\n",
      "Epoch 38/50\n",
      "18484/18484 [==============================] - 3s 137us/step - loss: 0.5843 - acc: 0.6790\n",
      "Epoch 39/50\n",
      "18484/18484 [==============================] - 2s 123us/step - loss: 0.5823 - acc: 0.6803\n",
      "Epoch 40/50\n",
      "18484/18484 [==============================] - 2s 131us/step - loss: 0.5825 - acc: 0.6828\n",
      "Epoch 41/50\n",
      "18484/18484 [==============================] - 2s 134us/step - loss: 0.5809 - acc: 0.6839\n",
      "Epoch 42/50\n",
      "18484/18484 [==============================] - 2s 130us/step - loss: 0.5817 - acc: 0.6811\n",
      "Epoch 43/50\n",
      "18484/18484 [==============================] - 3s 160us/step - loss: 0.5812 - acc: 0.6857\n",
      "Epoch 44/50\n",
      "18484/18484 [==============================] - 3s 138us/step - loss: 0.5793 - acc: 0.6833\n",
      "Epoch 45/50\n",
      "18484/18484 [==============================] - 3s 164us/step - loss: 0.5792 - acc: 0.6875\n",
      "Epoch 46/50\n",
      "18484/18484 [==============================] - 3s 144us/step - loss: 0.5789 - acc: 0.6855\n",
      "Epoch 47/50\n",
      "18484/18484 [==============================] - 2s 130us/step - loss: 0.5787 - acc: 0.6861\n",
      "Epoch 48/50\n",
      "18484/18484 [==============================] - 3s 140us/step - loss: 0.5768 - acc: 0.6872\n",
      "Epoch 49/50\n",
      "18484/18484 [==============================] - 2s 128us/step - loss: 0.5757 - acc: 0.6918\n",
      "Epoch 50/50\n",
      "18484/18484 [==============================] - 2s 122us/step - loss: 0.5753 - acc: 0.6861\n"
     ]
    },
    {
     "data": {
      "text/plain": [
       "<keras.callbacks.History at 0x1a2d6d90b8>"
      ]
     },
     "execution_count": 148,
     "metadata": {},
     "output_type": "execute_result"
    }
   ],
   "source": [
    "# Fit (train the model)\n",
    "model.fit(X2, Y, nb_epoch = 50, batch_size = 10)"
   ]
  },
  {
   "cell_type": "code",
   "execution_count": 149,
   "metadata": {},
   "outputs": [
    {
     "name": "stdout",
     "output_type": "stream",
     "text": [
      "18484/18484 [==============================] - 0s 18us/step\n",
      "Model acc = 69.82254923434775\n"
     ]
    }
   ],
   "source": [
    "# Score the model\n",
    "score = model.evaluate(X2, Y)\n",
    "print('Model {} = {}'.format(model.metrics_names[1], score[1]*100))"
   ]
  },
  {
   "cell_type": "markdown",
   "metadata": {},
   "source": [
    "No improvement! So make it back to network with 3 hidden layers!"
   ]
  },
  {
   "cell_type": "markdown",
   "metadata": {},
   "source": [
    "#### 9.3. Increase the number of neurons"
   ]
  },
  {
   "cell_type": "code",
   "execution_count": 173,
   "metadata": {},
   "outputs": [
    {
     "name": "stdout",
     "output_type": "stream",
     "text": [
      "_________________________________________________________________\n",
      "Layer (type)                 Output Shape              Param #   \n",
      "=================================================================\n",
      "dense_52 (Dense)             (None, 11)                132       \n",
      "_________________________________________________________________\n",
      "dense_53 (Dense)             (None, 36)                432       \n",
      "_________________________________________________________________\n",
      "dense_54 (Dense)             (None, 36)                1332      \n",
      "_________________________________________________________________\n",
      "dense_55 (Dense)             (None, 1)                 37        \n",
      "=================================================================\n",
      "Total params: 1,933\n",
      "Trainable params: 1,933\n",
      "Non-trainable params: 0\n",
      "_________________________________________________________________\n"
     ]
    },
    {
     "name": "stderr",
     "output_type": "stream",
     "text": [
      "/Users/ehsannegahbani/anaconda3/lib/python3.6/site-packages/ipykernel_launcher.py:2: UserWarning: Update your `Dense` call to the Keras 2 API: `Dense(11, input_dim=11, activation=\"relu\", kernel_initializer=\"uniform\")`\n",
      "  \n",
      "/Users/ehsannegahbani/anaconda3/lib/python3.6/site-packages/ipykernel_launcher.py:3: UserWarning: Update your `Dense` call to the Keras 2 API: `Dense(36, activation=\"relu\", kernel_initializer=\"uniform\")`\n",
      "  This is separate from the ipykernel package so we can avoid doing imports until\n",
      "/Users/ehsannegahbani/anaconda3/lib/python3.6/site-packages/ipykernel_launcher.py:4: UserWarning: Update your `Dense` call to the Keras 2 API: `Dense(36, activation=\"relu\", kernel_initializer=\"uniform\")`\n",
      "  after removing the cwd from sys.path.\n",
      "/Users/ehsannegahbani/anaconda3/lib/python3.6/site-packages/ipykernel_launcher.py:5: UserWarning: Update your `Dense` call to the Keras 2 API: `Dense(1, activation=\"sigmoid\", kernel_initializer=\"uniform\")`\n",
      "  \"\"\"\n"
     ]
    }
   ],
   "source": [
    "model = Sequential()\n",
    "model.add(Dense(11, input_dim=11, init='uniform', activation='relu')) # relu: rectifier activation function\n",
    "model.add(Dense(36, init='uniform', activation='relu'))\n",
    "model.add(Dense(36, init='uniform', activation='relu'))\n",
    "model.add(Dense(1, init='uniform', activation='sigmoid'))\n",
    "model.summary()"
   ]
  },
  {
   "cell_type": "code",
   "execution_count": 170,
   "metadata": {},
   "outputs": [],
   "source": [
    "# Compile the model\n",
    "model.compile(loss = 'binary_crossentropy', optimizer='adam', metrics=['accuracy'])"
   ]
  },
  {
   "cell_type": "code",
   "execution_count": 171,
   "metadata": {},
   "outputs": [
    {
     "name": "stderr",
     "output_type": "stream",
     "text": [
      "/Users/ehsannegahbani/anaconda3/lib/python3.6/site-packages/ipykernel_launcher.py:2: UserWarning: The `nb_epoch` argument in `fit` has been renamed `epochs`.\n",
      "  \n"
     ]
    },
    {
     "name": "stdout",
     "output_type": "stream",
     "text": [
      "Epoch 1/50\n",
      "18484/18484 [==============================] - 3s 146us/step - loss: 0.6601 - acc: 0.6074\n",
      "Epoch 2/50\n",
      "18484/18484 [==============================] - 2s 117us/step - loss: 0.6487 - acc: 0.6213\n",
      "Epoch 3/50\n",
      "18484/18484 [==============================] - 2s 122us/step - loss: 0.6350 - acc: 0.6365\n",
      "Epoch 4/50\n",
      "18484/18484 [==============================] - 3s 149us/step - loss: 0.6277 - acc: 0.6437\n",
      "Epoch 5/50\n",
      "18484/18484 [==============================] - 3s 189us/step - loss: 0.6214 - acc: 0.6522\n",
      "Epoch 6/50\n",
      "18484/18484 [==============================] - 3s 153us/step - loss: 0.6137 - acc: 0.6594\n",
      "Epoch 7/50\n",
      "18484/18484 [==============================] - 3s 156us/step - loss: 0.6057 - acc: 0.6703\n",
      "Epoch 8/50\n",
      "18484/18484 [==============================] - 2s 123us/step - loss: 0.6030 - acc: 0.6739\n",
      "Epoch 9/50\n",
      "18484/18484 [==============================] - 3s 146us/step - loss: 0.5998 - acc: 0.6826\n",
      "Epoch 10/50\n",
      "18484/18484 [==============================] - 3s 140us/step - loss: 0.5953 - acc: 0.6825\n",
      "Epoch 11/50\n",
      "18484/18484 [==============================] - 3s 154us/step - loss: 0.5933 - acc: 0.6870\n",
      "Epoch 12/50\n",
      "18484/18484 [==============================] - 2s 131us/step - loss: 0.5913 - acc: 0.6922\n",
      "Epoch 13/50\n",
      "18484/18484 [==============================] - 2s 131us/step - loss: 0.5884 - acc: 0.6931\n",
      "Epoch 14/50\n",
      "18484/18484 [==============================] - 2s 131us/step - loss: 0.5872 - acc: 0.6956\n",
      "Epoch 15/50\n",
      "18484/18484 [==============================] - 2s 131us/step - loss: 0.5851 - acc: 0.6930\n",
      "Epoch 16/50\n",
      "18484/18484 [==============================] - 3s 136us/step - loss: 0.5826 - acc: 0.6993\n",
      "Epoch 17/50\n",
      "18484/18484 [==============================] - 3s 141us/step - loss: 0.5782 - acc: 0.7012\n",
      "Epoch 18/50\n",
      "18484/18484 [==============================] - 2s 111us/step - loss: 0.5761 - acc: 0.7014\n",
      "Epoch 19/50\n",
      "18484/18484 [==============================] - 2s 115us/step - loss: 0.5728 - acc: 0.7052\n",
      "Epoch 20/50\n",
      "18484/18484 [==============================] - 2s 112us/step - loss: 0.5693 - acc: 0.7099\n",
      "Epoch 21/50\n",
      "18484/18484 [==============================] - 2s 113us/step - loss: 0.5647 - acc: 0.7156\n",
      "Epoch 22/50\n",
      "18484/18484 [==============================] - 2s 125us/step - loss: 0.5626 - acc: 0.7159\n",
      "Epoch 23/50\n",
      "18484/18484 [==============================] - 2s 125us/step - loss: 0.5579 - acc: 0.7176\n",
      "Epoch 24/50\n",
      "18484/18484 [==============================] - 2s 120us/step - loss: 0.5555 - acc: 0.7211\n",
      "Epoch 25/50\n",
      "18484/18484 [==============================] - 2s 116us/step - loss: 0.5542 - acc: 0.7235\n",
      "Epoch 26/50\n",
      "18484/18484 [==============================] - 2s 117us/step - loss: 0.5529 - acc: 0.7220\n",
      "Epoch 27/50\n",
      "18484/18484 [==============================] - 2s 115us/step - loss: 0.5505 - acc: 0.7250\n",
      "Epoch 28/50\n",
      "18484/18484 [==============================] - 2s 120us/step - loss: 0.5476 - acc: 0.7284\n",
      "Epoch 29/50\n",
      "18484/18484 [==============================] - 2s 127us/step - loss: 0.5467 - acc: 0.7308\n",
      "Epoch 30/50\n",
      "18484/18484 [==============================] - 2s 117us/step - loss: 0.5448 - acc: 0.7282\n",
      "Epoch 31/50\n",
      "18484/18484 [==============================] - 2s 118us/step - loss: 0.5427 - acc: 0.7321\n",
      "Epoch 32/50\n",
      "18484/18484 [==============================] - 2s 118us/step - loss: 0.5403 - acc: 0.7333\n",
      "Epoch 33/50\n",
      "18484/18484 [==============================] - 3s 136us/step - loss: 0.5384 - acc: 0.7325\n",
      "Epoch 34/50\n",
      "18484/18484 [==============================] - 2s 120us/step - loss: 0.5347 - acc: 0.7400\n",
      "Epoch 35/50\n",
      "18484/18484 [==============================] - 2s 117us/step - loss: 0.5348 - acc: 0.7353\n",
      "Epoch 36/50\n",
      "18484/18484 [==============================] - 2s 132us/step - loss: 0.5323 - acc: 0.7416\n",
      "Epoch 37/50\n",
      "18484/18484 [==============================] - 2s 132us/step - loss: 0.5296 - acc: 0.7416\n",
      "Epoch 38/50\n",
      "18484/18484 [==============================] - 2s 113us/step - loss: 0.5296 - acc: 0.7415\n",
      "Epoch 39/50\n",
      "18484/18484 [==============================] - 2s 112us/step - loss: 0.5283 - acc: 0.7406\n",
      "Epoch 40/50\n",
      "18484/18484 [==============================] - 2s 118us/step - loss: 0.5277 - acc: 0.7418\n",
      "Epoch 41/50\n",
      "18484/18484 [==============================] - 2s 111us/step - loss: 0.5257 - acc: 0.7435\n",
      "Epoch 42/50\n",
      "18484/18484 [==============================] - 2s 111us/step - loss: 0.5237 - acc: 0.7437\n",
      "Epoch 43/50\n",
      "18484/18484 [==============================] - 2s 111us/step - loss: 0.5241 - acc: 0.7424\n",
      "Epoch 44/50\n",
      "18484/18484 [==============================] - 2s 117us/step - loss: 0.5215 - acc: 0.7456\n",
      "Epoch 45/50\n",
      "18484/18484 [==============================] - 2s 122us/step - loss: 0.5201 - acc: 0.7451\n",
      "Epoch 46/50\n",
      "18484/18484 [==============================] - 2s 111us/step - loss: 0.5185 - acc: 0.7490\n",
      "Epoch 47/50\n",
      "18484/18484 [==============================] - 2s 111us/step - loss: 0.5165 - acc: 0.7498\n",
      "Epoch 48/50\n",
      "18484/18484 [==============================] - 2s 110us/step - loss: 0.5161 - acc: 0.7491\n",
      "Epoch 49/50\n",
      "18484/18484 [==============================] - 2s 110us/step - loss: 0.5146 - acc: 0.7477\n",
      "Epoch 50/50\n",
      "18484/18484 [==============================] - 2s 111us/step - loss: 0.5144 - acc: 0.7503\n"
     ]
    },
    {
     "data": {
      "text/plain": [
       "<keras.callbacks.History at 0x1a2fc005f8>"
      ]
     },
     "execution_count": 171,
     "metadata": {},
     "output_type": "execute_result"
    }
   ],
   "source": [
    "# Fit (train the model)\n",
    "model.fit(X2, Y, nb_epoch = 50, batch_size = 10)"
   ]
  },
  {
   "cell_type": "code",
   "execution_count": 172,
   "metadata": {},
   "outputs": [
    {
     "name": "stdout",
     "output_type": "stream",
     "text": [
      "18484/18484 [==============================] - 0s 24us/step\n",
      "Model acc = 75.96299502272235\n"
     ]
    }
   ],
   "source": [
    "# Score the model\n",
    "score = model.evaluate(X2, Y)\n",
    "print('Model {} = {}'.format(model.metrics_names[1], score[1]*100))"
   ]
  },
  {
   "cell_type": "markdown",
   "metadata": {},
   "source": [
    "This is some improvement. We might come back to this parameter (number of neurons) later to further increase the accuracy of the model. But let's move on and tune another parmeter: number of epochs."
   ]
  },
  {
   "cell_type": "markdown",
   "metadata": {},
   "source": [
    "#### 9.4. Increase the number of epochs"
   ]
  },
  {
   "cell_type": "code",
   "execution_count": 154,
   "metadata": {},
   "outputs": [
    {
     "name": "stderr",
     "output_type": "stream",
     "text": [
      "/Users/ehsannegahbani/anaconda3/lib/python3.6/site-packages/ipykernel_launcher.py:3: UserWarning: Update your `Dense` call to the Keras 2 API: `Dense(20, input_dim=11, activation=\"relu\", kernel_initializer=\"uniform\")`\n",
      "  This is separate from the ipykernel package so we can avoid doing imports until\n",
      "/Users/ehsannegahbani/anaconda3/lib/python3.6/site-packages/ipykernel_launcher.py:4: UserWarning: Update your `Dense` call to the Keras 2 API: `Dense(16, activation=\"relu\", kernel_initializer=\"uniform\")`\n",
      "  after removing the cwd from sys.path.\n",
      "/Users/ehsannegahbani/anaconda3/lib/python3.6/site-packages/ipykernel_launcher.py:5: UserWarning: Update your `Dense` call to the Keras 2 API: `Dense(16, activation=\"relu\", kernel_initializer=\"uniform\")`\n",
      "  \"\"\"\n",
      "/Users/ehsannegahbani/anaconda3/lib/python3.6/site-packages/ipykernel_launcher.py:6: UserWarning: Update your `Dense` call to the Keras 2 API: `Dense(1, activation=\"sigmoid\", kernel_initializer=\"uniform\")`\n",
      "  \n"
     ]
    }
   ],
   "source": [
    "#  build the model\n",
    "model = Sequential()\n",
    "model.add(Dense(20, input_dim=11, init='uniform', activation='relu')) # relu: rectifier activation function\n",
    "model.add(Dense(16, init='uniform', activation='relu'))\n",
    "model.add(Dense(16, init='uniform', activation='relu'))\n",
    "model.add(Dense(1, init='uniform', activation='sigmoid'))\n",
    "# model.summary()"
   ]
  },
  {
   "cell_type": "code",
   "execution_count": 155,
   "metadata": {},
   "outputs": [],
   "source": [
    "# Compile the model\n",
    "model.compile(loss='binary_crossentropy', optimizer='adam', metrics=['accuracy'])"
   ]
  },
  {
   "cell_type": "code",
   "execution_count": 156,
   "metadata": {},
   "outputs": [
    {
     "name": "stderr",
     "output_type": "stream",
     "text": [
      "/Users/ehsannegahbani/anaconda3/lib/python3.6/site-packages/ipykernel_launcher.py:2: UserWarning: The `nb_epoch` argument in `fit` has been renamed `epochs`.\n",
      "  \n"
     ]
    },
    {
     "name": "stdout",
     "output_type": "stream",
     "text": [
      "Epoch 1/200\n",
      "18484/18484 [==============================] - 3s 139us/step - loss: 0.6684 - acc: 0.6059\n",
      "Epoch 2/200\n",
      "18484/18484 [==============================] - 2s 113us/step - loss: 0.6417 - acc: 0.6404\n",
      "Epoch 3/200\n",
      "18484/18484 [==============================] - 2s 113us/step - loss: 0.6347 - acc: 0.6468\n",
      "Epoch 4/200\n",
      "18484/18484 [==============================] - 2s 117us/step - loss: 0.6293 - acc: 0.6481\n",
      "Epoch 5/200\n",
      "18484/18484 [==============================] - 2s 128us/step - loss: 0.6260 - acc: 0.6533\n",
      "Epoch 6/200\n",
      "18484/18484 [==============================] - 3s 138us/step - loss: 0.6228 - acc: 0.6585\n",
      "Epoch 7/200\n",
      "18484/18484 [==============================] - 4s 198us/step - loss: 0.6179 - acc: 0.6657\n",
      "Epoch 8/200\n",
      "18484/18484 [==============================] - 2s 117us/step - loss: 0.6147 - acc: 0.6690\n",
      "Epoch 9/200\n",
      "18484/18484 [==============================] - 2s 114us/step - loss: 0.6118 - acc: 0.6730\n",
      "Epoch 10/200\n",
      "18484/18484 [==============================] - 2s 114us/step - loss: 0.6085 - acc: 0.6756\n",
      "Epoch 11/200\n",
      "18484/18484 [==============================] - 2s 117us/step - loss: 0.6068 - acc: 0.6765\n",
      "Epoch 12/200\n",
      "18484/18484 [==============================] - 3s 136us/step - loss: 0.6053 - acc: 0.6808\n",
      "Epoch 13/200\n",
      "18484/18484 [==============================] - 2s 115us/step - loss: 0.6036 - acc: 0.6796\n",
      "Epoch 14/200\n",
      "18484/18484 [==============================] - 2s 116us/step - loss: 0.6012 - acc: 0.6847\n",
      "Epoch 15/200\n",
      "18484/18484 [==============================] - 2s 116us/step - loss: 0.6002 - acc: 0.6806\n",
      "Epoch 16/200\n",
      "18484/18484 [==============================] - 2s 117us/step - loss: 0.5990 - acc: 0.6853\n",
      "Epoch 17/200\n",
      "18484/18484 [==============================] - 2s 116us/step - loss: 0.5976 - acc: 0.6876\n",
      "Epoch 18/200\n",
      "18484/18484 [==============================] - 2s 118us/step - loss: 0.5962 - acc: 0.6880\n",
      "Epoch 19/200\n",
      "18484/18484 [==============================] - 2s 118us/step - loss: 0.5934 - acc: 0.6912\n",
      "Epoch 20/200\n",
      "18484/18484 [==============================] - 3s 138us/step - loss: 0.5927 - acc: 0.6914\n",
      "Epoch 21/200\n",
      "18484/18484 [==============================] - 2s 118us/step - loss: 0.5925 - acc: 0.6937\n",
      "Epoch 22/200\n",
      "18484/18484 [==============================] - 2s 118us/step - loss: 0.5916 - acc: 0.6954\n",
      "Epoch 23/200\n",
      "18484/18484 [==============================] - 2s 119us/step - loss: 0.5889 - acc: 0.6983\n",
      "Epoch 24/200\n",
      "18484/18484 [==============================] - 3s 138us/step - loss: 0.5878 - acc: 0.6997\n",
      "Epoch 25/200\n",
      "18484/18484 [==============================] - 2s 122us/step - loss: 0.5872 - acc: 0.7021\n",
      "Epoch 26/200\n",
      "18484/18484 [==============================] - 2s 119us/step - loss: 0.5857 - acc: 0.7044\n",
      "Epoch 27/200\n",
      "18484/18484 [==============================] - 3s 137us/step - loss: 0.5836 - acc: 0.7069\n",
      "Epoch 28/200\n",
      "18484/18484 [==============================] - 2s 119us/step - loss: 0.5842 - acc: 0.7019\n",
      "Epoch 29/200\n",
      "18484/18484 [==============================] - 2s 119us/step - loss: 0.5821 - acc: 0.7058\n",
      "Epoch 30/200\n",
      "18484/18484 [==============================] - 3s 140us/step - loss: 0.5819 - acc: 0.7089\n",
      "Epoch 31/200\n",
      "18484/18484 [==============================] - 3s 149us/step - loss: 0.5805 - acc: 0.7092\n",
      "Epoch 32/200\n",
      "18484/18484 [==============================] - 2s 122us/step - loss: 0.5798 - acc: 0.7105\n",
      "Epoch 33/200\n",
      "18484/18484 [==============================] - 2s 119us/step - loss: 0.5795 - acc: 0.7083\n",
      "Epoch 34/200\n",
      "18484/18484 [==============================] - 2s 116us/step - loss: 0.5784 - acc: 0.7096\n",
      "Epoch 35/200\n",
      "18484/18484 [==============================] - 2s 117us/step - loss: 0.5791 - acc: 0.7100\n",
      "Epoch 36/200\n",
      "18484/18484 [==============================] - 2s 117us/step - loss: 0.5764 - acc: 0.7112\n",
      "Epoch 37/200\n",
      "18484/18484 [==============================] - 2s 117us/step - loss: 0.5744 - acc: 0.7160\n",
      "Epoch 38/200\n",
      "18484/18484 [==============================] - 2s 116us/step - loss: 0.5752 - acc: 0.7130\n",
      "Epoch 39/200\n",
      "18484/18484 [==============================] - 2s 116us/step - loss: 0.5737 - acc: 0.7150\n",
      "Epoch 40/200\n",
      "18484/18484 [==============================] - 2s 116us/step - loss: 0.5708 - acc: 0.7181\n",
      "Epoch 41/200\n",
      "18484/18484 [==============================] - 2s 130us/step - loss: 0.5711 - acc: 0.7160\n",
      "Epoch 42/200\n",
      "18484/18484 [==============================] - 3s 143us/step - loss: 0.5714 - acc: 0.7129\n",
      "Epoch 43/200\n",
      "18484/18484 [==============================] - 2s 116us/step - loss: 0.5682 - acc: 0.7178\n",
      "Epoch 44/200\n",
      "18484/18484 [==============================] - 3s 136us/step - loss: 0.5687 - acc: 0.7186\n",
      "Epoch 45/200\n",
      "18484/18484 [==============================] - 2s 118us/step - loss: 0.5672 - acc: 0.7206\n",
      "Epoch 46/200\n",
      "18484/18484 [==============================] - 2s 123us/step - loss: 0.5673 - acc: 0.7188\n",
      "Epoch 47/200\n",
      "18484/18484 [==============================] - 2s 119us/step - loss: 0.5662 - acc: 0.7199\n",
      "Epoch 48/200\n",
      "18484/18484 [==============================] - 3s 159us/step - loss: 0.5658 - acc: 0.7172\n",
      "Epoch 49/200\n",
      "18484/18484 [==============================] - 2s 130us/step - loss: 0.5641 - acc: 0.7206\n",
      "Epoch 50/200\n",
      "18484/18484 [==============================] - 3s 140us/step - loss: 0.5633 - acc: 0.7184\n",
      "Epoch 51/200\n",
      "18484/18484 [==============================] - 2s 118us/step - loss: 0.5626 - acc: 0.7198\n",
      "Epoch 52/200\n",
      "18484/18484 [==============================] - 2s 118us/step - loss: 0.5604 - acc: 0.7208\n",
      "Epoch 53/200\n",
      "18484/18484 [==============================] - 2s 120us/step - loss: 0.5602 - acc: 0.7217\n",
      "Epoch 54/200\n",
      "18484/18484 [==============================] - 2s 117us/step - loss: 0.5586 - acc: 0.7207\n",
      "Epoch 55/200\n",
      "18484/18484 [==============================] - 2s 115us/step - loss: 0.5586 - acc: 0.7198\n",
      "Epoch 56/200\n",
      "18484/18484 [==============================] - 2s 119us/step - loss: 0.5567 - acc: 0.7233\n",
      "Epoch 57/200\n",
      "18484/18484 [==============================] - 2s 119us/step - loss: 0.5551 - acc: 0.7256\n",
      "Epoch 58/200\n",
      "18484/18484 [==============================] - 2s 117us/step - loss: 0.5547 - acc: 0.7222\n",
      "Epoch 59/200\n",
      "18484/18484 [==============================] - 2s 116us/step - loss: 0.5545 - acc: 0.7221\n",
      "Epoch 60/200\n",
      "18484/18484 [==============================] - 2s 117us/step - loss: 0.5530 - acc: 0.7239\n",
      "Epoch 61/200\n",
      "18484/18484 [==============================] - 2s 119us/step - loss: 0.5520 - acc: 0.7253\n",
      "Epoch 62/200\n",
      "18484/18484 [==============================] - 2s 115us/step - loss: 0.5526 - acc: 0.7236\n",
      "Epoch 63/200\n",
      "18484/18484 [==============================] - 2s 120us/step - loss: 0.5498 - acc: 0.7257\n",
      "Epoch 64/200\n",
      "18484/18484 [==============================] - 2s 117us/step - loss: 0.5497 - acc: 0.7263\n",
      "Epoch 65/200\n",
      "18484/18484 [==============================] - 2s 118us/step - loss: 0.5479 - acc: 0.7275\n",
      "Epoch 66/200\n",
      "18484/18484 [==============================] - 2s 116us/step - loss: 0.5471 - acc: 0.7270\n",
      "Epoch 67/200\n",
      "18484/18484 [==============================] - 2s 123us/step - loss: 0.5466 - acc: 0.7276\n",
      "Epoch 68/200\n",
      "18484/18484 [==============================] - 2s 116us/step - loss: 0.5457 - acc: 0.7311\n",
      "Epoch 69/200\n",
      "18484/18484 [==============================] - 2s 117us/step - loss: 0.5434 - acc: 0.7294\n",
      "Epoch 70/200\n",
      "18484/18484 [==============================] - 2s 115us/step - loss: 0.5425 - acc: 0.7271\n",
      "Epoch 71/200\n",
      "18484/18484 [==============================] - 2s 119us/step - loss: 0.5414 - acc: 0.7293\n",
      "Epoch 72/200\n",
      "18484/18484 [==============================] - 2s 117us/step - loss: 0.5418 - acc: 0.7294\n",
      "Epoch 73/200\n",
      "18484/18484 [==============================] - 2s 119us/step - loss: 0.5393 - acc: 0.7313\n",
      "Epoch 74/200\n",
      "18484/18484 [==============================] - 2s 118us/step - loss: 0.5381 - acc: 0.7319\n",
      "Epoch 75/200\n",
      "18484/18484 [==============================] - 2s 116us/step - loss: 0.5378 - acc: 0.7307\n",
      "Epoch 76/200\n",
      "18484/18484 [==============================] - 2s 122us/step - loss: 0.5381 - acc: 0.7310\n",
      "Epoch 77/200\n",
      "18484/18484 [==============================] - 3s 147us/step - loss: 0.5373 - acc: 0.7324\n",
      "Epoch 78/200\n",
      "18484/18484 [==============================] - 2s 124us/step - loss: 0.5351 - acc: 0.7323\n",
      "Epoch 79/200\n",
      "18484/18484 [==============================] - 2s 119us/step - loss: 0.5338 - acc: 0.7317\n",
      "Epoch 80/200\n"
     ]
    },
    {
     "name": "stdout",
     "output_type": "stream",
     "text": [
      "18484/18484 [==============================] - 3s 182us/step - loss: 0.5343 - acc: 0.7311\n",
      "Epoch 81/200\n",
      "18484/18484 [==============================] - 3s 157us/step - loss: 0.5340 - acc: 0.7359\n",
      "Epoch 82/200\n",
      "18484/18484 [==============================] - 3s 161us/step - loss: 0.5327 - acc: 0.7347\n",
      "Epoch 83/200\n",
      "18484/18484 [==============================] - 3s 183us/step - loss: 0.5320 - acc: 0.7340\n",
      "Epoch 84/200\n",
      "18484/18484 [==============================] - 2s 121us/step - loss: 0.5317 - acc: 0.7348\n",
      "Epoch 85/200\n",
      "18484/18484 [==============================] - 3s 148us/step - loss: 0.5305 - acc: 0.7358\n",
      "Epoch 86/200\n",
      "18484/18484 [==============================] - 2s 134us/step - loss: 0.5299 - acc: 0.7378\n",
      "Epoch 87/200\n",
      "18484/18484 [==============================] - 3s 160us/step - loss: 0.5311 - acc: 0.7375\n",
      "Epoch 88/200\n",
      "18484/18484 [==============================] - 3s 160us/step - loss: 0.5292 - acc: 0.7372\n",
      "Epoch 89/200\n",
      "18484/18484 [==============================] - 3s 161us/step - loss: 0.5297 - acc: 0.7347\n",
      "Epoch 90/200\n",
      "18484/18484 [==============================] - 3s 157us/step - loss: 0.5288 - acc: 0.7383\n",
      "Epoch 91/200\n",
      "18484/18484 [==============================] - 3s 136us/step - loss: 0.5277 - acc: 0.7349\n",
      "Epoch 92/200\n",
      "18484/18484 [==============================] - 3s 152us/step - loss: 0.5275 - acc: 0.7409\n",
      "Epoch 93/200\n",
      "18484/18484 [==============================] - 2s 128us/step - loss: 0.5263 - acc: 0.7415\n",
      "Epoch 94/200\n",
      "18484/18484 [==============================] - 2s 119us/step - loss: 0.5265 - acc: 0.7399\n",
      "Epoch 95/200\n",
      "18484/18484 [==============================] - 2s 114us/step - loss: 0.5263 - acc: 0.7439\n",
      "Epoch 96/200\n",
      "18484/18484 [==============================] - 2s 116us/step - loss: 0.5244 - acc: 0.7432\n",
      "Epoch 97/200\n",
      "18484/18484 [==============================] - 2s 125us/step - loss: 0.5244 - acc: 0.7438\n",
      "Epoch 98/200\n",
      "18484/18484 [==============================] - 2s 119us/step - loss: 0.5256 - acc: 0.7446\n",
      "Epoch 99/200\n",
      "18484/18484 [==============================] - 3s 141us/step - loss: 0.5241 - acc: 0.7439\n",
      "Epoch 100/200\n",
      "18484/18484 [==============================] - 3s 161us/step - loss: 0.5250 - acc: 0.7467\n",
      "Epoch 101/200\n",
      "18484/18484 [==============================] - 2s 110us/step - loss: 0.5223 - acc: 0.7469\n",
      "Epoch 102/200\n",
      "18484/18484 [==============================] - 3s 146us/step - loss: 0.5226 - acc: 0.7481\n",
      "Epoch 103/200\n",
      "18484/18484 [==============================] - 3s 151us/step - loss: 0.5238 - acc: 0.7465\n",
      "Epoch 104/200\n",
      "18484/18484 [==============================] - 3s 149us/step - loss: 0.5210 - acc: 0.7502\n",
      "Epoch 105/200\n",
      "18484/18484 [==============================] - 3s 153us/step - loss: 0.5213 - acc: 0.7499\n",
      "Epoch 106/200\n",
      "18484/18484 [==============================] - 2s 127us/step - loss: 0.5218 - acc: 0.7498\n",
      "Epoch 107/200\n",
      "18484/18484 [==============================] - 2s 119us/step - loss: 0.5225 - acc: 0.7501\n",
      "Epoch 108/200\n",
      "18484/18484 [==============================] - 2s 122us/step - loss: 0.5208 - acc: 0.7508\n",
      "Epoch 109/200\n",
      "18484/18484 [==============================] - 2s 116us/step - loss: 0.5214 - acc: 0.7524\n",
      "Epoch 110/200\n",
      "18484/18484 [==============================] - 2s 116us/step - loss: 0.5194 - acc: 0.7518\n",
      "Epoch 111/200\n",
      "18484/18484 [==============================] - 2s 115us/step - loss: 0.5200 - acc: 0.7505\n",
      "Epoch 112/200\n",
      "18484/18484 [==============================] - 2s 117us/step - loss: 0.5202 - acc: 0.7503\n",
      "Epoch 113/200\n",
      "18484/18484 [==============================] - 2s 116us/step - loss: 0.5196 - acc: 0.7515\n",
      "Epoch 114/200\n",
      "18484/18484 [==============================] - 2s 115us/step - loss: 0.5186 - acc: 0.7530\n",
      "Epoch 115/200\n",
      "18484/18484 [==============================] - 2s 116us/step - loss: 0.5174 - acc: 0.7524\n",
      "Epoch 116/200\n",
      "18484/18484 [==============================] - 2s 116us/step - loss: 0.5192 - acc: 0.7523\n",
      "Epoch 117/200\n",
      "18484/18484 [==============================] - 2s 116us/step - loss: 0.5181 - acc: 0.7522\n",
      "Epoch 118/200\n",
      "18484/18484 [==============================] - 2s 116us/step - loss: 0.5168 - acc: 0.7538\n",
      "Epoch 119/200\n",
      "18484/18484 [==============================] - 2s 114us/step - loss: 0.5164 - acc: 0.7542\n",
      "Epoch 120/200\n",
      "18484/18484 [==============================] - 2s 116us/step - loss: 0.5166 - acc: 0.7560\n",
      "Epoch 121/200\n",
      "18484/18484 [==============================] - 2s 115us/step - loss: 0.5167 - acc: 0.7539\n",
      "Epoch 122/200\n",
      "18484/18484 [==============================] - 2s 114us/step - loss: 0.5173 - acc: 0.7545\n",
      "Epoch 123/200\n",
      "18484/18484 [==============================] - 2s 116us/step - loss: 0.5145 - acc: 0.7589\n",
      "Epoch 124/200\n",
      "18484/18484 [==============================] - 2s 115us/step - loss: 0.5159 - acc: 0.7568\n",
      "Epoch 125/200\n",
      "18484/18484 [==============================] - 2s 115us/step - loss: 0.5166 - acc: 0.7549\n",
      "Epoch 126/200\n",
      "18484/18484 [==============================] - 2s 115us/step - loss: 0.5160 - acc: 0.7581\n",
      "Epoch 127/200\n",
      "18484/18484 [==============================] - 2s 115us/step - loss: 0.5147 - acc: 0.7585\n",
      "Epoch 128/200\n",
      "18484/18484 [==============================] - 2s 115us/step - loss: 0.5163 - acc: 0.7585\n",
      "Epoch 129/200\n",
      "18484/18484 [==============================] - 2s 115us/step - loss: 0.5164 - acc: 0.7578\n",
      "Epoch 130/200\n",
      "18484/18484 [==============================] - 2s 115us/step - loss: 0.5150 - acc: 0.7564\n",
      "Epoch 131/200\n",
      "18484/18484 [==============================] - 2s 115us/step - loss: 0.5146 - acc: 0.7579\n",
      "Epoch 132/200\n",
      "18484/18484 [==============================] - 2s 115us/step - loss: 0.5132 - acc: 0.7584\n",
      "Epoch 133/200\n",
      "18484/18484 [==============================] - 2s 114us/step - loss: 0.5144 - acc: 0.7578\n",
      "Epoch 134/200\n",
      "18484/18484 [==============================] - 2s 115us/step - loss: 0.5155 - acc: 0.7572\n",
      "Epoch 135/200\n",
      "18484/18484 [==============================] - 2s 114us/step - loss: 0.5128 - acc: 0.7594\n",
      "Epoch 136/200\n",
      "18484/18484 [==============================] - 2s 115us/step - loss: 0.5139 - acc: 0.7598\n",
      "Epoch 137/200\n",
      "18484/18484 [==============================] - 2s 115us/step - loss: 0.5141 - acc: 0.7580\n",
      "Epoch 138/200\n",
      "18484/18484 [==============================] - 2s 114us/step - loss: 0.5127 - acc: 0.7600\n",
      "Epoch 139/200\n",
      "18484/18484 [==============================] - 2s 114us/step - loss: 0.5148 - acc: 0.7573\n",
      "Epoch 140/200\n",
      "18484/18484 [==============================] - 2s 116us/step - loss: 0.5110 - acc: 0.7595\n",
      "Epoch 141/200\n",
      "18484/18484 [==============================] - 2s 117us/step - loss: 0.5117 - acc: 0.7612\n",
      "Epoch 142/200\n",
      "18484/18484 [==============================] - 2s 114us/step - loss: 0.5124 - acc: 0.7591\n",
      "Epoch 143/200\n",
      "18484/18484 [==============================] - 2s 115us/step - loss: 0.5113 - acc: 0.7595\n",
      "Epoch 144/200\n",
      "18484/18484 [==============================] - 2s 115us/step - loss: 0.5129 - acc: 0.7577\n",
      "Epoch 145/200\n",
      "18484/18484 [==============================] - 2s 115us/step - loss: 0.5122 - acc: 0.7588\n",
      "Epoch 146/200\n",
      "18484/18484 [==============================] - 2s 115us/step - loss: 0.5122 - acc: 0.7580\n",
      "Epoch 147/200\n",
      "18484/18484 [==============================] - 2s 114us/step - loss: 0.5116 - acc: 0.7574\n",
      "Epoch 148/200\n",
      "18484/18484 [==============================] - 2s 115us/step - loss: 0.5112 - acc: 0.7596\n",
      "Epoch 149/200\n",
      "18484/18484 [==============================] - 2s 117us/step - loss: 0.5101 - acc: 0.7574\n",
      "Epoch 150/200\n",
      "18484/18484 [==============================] - 2s 115us/step - loss: 0.5109 - acc: 0.7600\n",
      "Epoch 151/200\n",
      "18484/18484 [==============================] - 2s 115us/step - loss: 0.5095 - acc: 0.7612\n",
      "Epoch 152/200\n",
      "18484/18484 [==============================] - 2s 117us/step - loss: 0.5114 - acc: 0.7601\n",
      "Epoch 153/200\n",
      "18484/18484 [==============================] - 2s 117us/step - loss: 0.5102 - acc: 0.7607\n",
      "Epoch 154/200\n",
      "18484/18484 [==============================] - 2s 115us/step - loss: 0.5089 - acc: 0.7588\n",
      "Epoch 155/200\n",
      "18484/18484 [==============================] - 2s 117us/step - loss: 0.5099 - acc: 0.7619\n",
      "Epoch 156/200\n",
      "18484/18484 [==============================] - 2s 116us/step - loss: 0.5095 - acc: 0.7604\n",
      "Epoch 157/200\n",
      "18484/18484 [==============================] - 2s 114us/step - loss: 0.5086 - acc: 0.7622\n",
      "Epoch 158/200\n",
      "18484/18484 [==============================] - 2s 115us/step - loss: 0.5087 - acc: 0.7614\n",
      "Epoch 159/200\n"
     ]
    },
    {
     "name": "stdout",
     "output_type": "stream",
     "text": [
      "18484/18484 [==============================] - 2s 110us/step - loss: 0.5087 - acc: 0.7595\n",
      "Epoch 160/200\n",
      "18484/18484 [==============================] - 2s 110us/step - loss: 0.5090 - acc: 0.7620\n",
      "Epoch 161/200\n",
      "18484/18484 [==============================] - 2s 109us/step - loss: 0.5088 - acc: 0.7610\n",
      "Epoch 162/200\n",
      "18484/18484 [==============================] - 2s 109us/step - loss: 0.5080 - acc: 0.7615\n",
      "Epoch 163/200\n",
      "18484/18484 [==============================] - 2s 109us/step - loss: 0.5074 - acc: 0.7624\n",
      "Epoch 164/200\n",
      "18484/18484 [==============================] - 2s 110us/step - loss: 0.5070 - acc: 0.7631\n",
      "Epoch 165/200\n",
      "18484/18484 [==============================] - 2s 118us/step - loss: 0.5065 - acc: 0.7630\n",
      "Epoch 166/200\n",
      "18484/18484 [==============================] - 2s 113us/step - loss: 0.5078 - acc: 0.7621\n",
      "Epoch 167/200\n",
      "18484/18484 [==============================] - 2s 110us/step - loss: 0.5059 - acc: 0.7629\n",
      "Epoch 168/200\n",
      "18484/18484 [==============================] - 2s 109us/step - loss: 0.5062 - acc: 0.7640\n",
      "Epoch 169/200\n",
      "18484/18484 [==============================] - 2s 110us/step - loss: 0.5075 - acc: 0.7621\n",
      "Epoch 170/200\n",
      "18484/18484 [==============================] - 2s 110us/step - loss: 0.5068 - acc: 0.7635\n",
      "Epoch 171/200\n",
      "18484/18484 [==============================] - 2s 110us/step - loss: 0.5057 - acc: 0.7616\n",
      "Epoch 172/200\n",
      "18484/18484 [==============================] - 2s 110us/step - loss: 0.5067 - acc: 0.7616\n",
      "Epoch 173/200\n",
      "18484/18484 [==============================] - 2s 110us/step - loss: 0.5055 - acc: 0.7628\n",
      "Epoch 174/200\n",
      "18484/18484 [==============================] - 2s 110us/step - loss: 0.5059 - acc: 0.7653\n",
      "Epoch 175/200\n",
      "18484/18484 [==============================] - 2s 110us/step - loss: 0.5066 - acc: 0.7625\n",
      "Epoch 176/200\n",
      "18484/18484 [==============================] - 2s 110us/step - loss: 0.5057 - acc: 0.7626\n",
      "Epoch 177/200\n",
      "18484/18484 [==============================] - 2s 110us/step - loss: 0.5067 - acc: 0.7634\n",
      "Epoch 178/200\n",
      "18484/18484 [==============================] - 2s 110us/step - loss: 0.5035 - acc: 0.7677\n",
      "Epoch 179/200\n",
      "18484/18484 [==============================] - 2s 109us/step - loss: 0.5044 - acc: 0.7634\n",
      "Epoch 180/200\n",
      "18484/18484 [==============================] - 2s 110us/step - loss: 0.5057 - acc: 0.7633\n",
      "Epoch 181/200\n",
      "18484/18484 [==============================] - 2s 110us/step - loss: 0.5036 - acc: 0.7648\n",
      "Epoch 182/200\n",
      "18484/18484 [==============================] - 2s 110us/step - loss: 0.5051 - acc: 0.7650\n",
      "Epoch 183/200\n",
      "18484/18484 [==============================] - 2s 109us/step - loss: 0.5045 - acc: 0.7637\n",
      "Epoch 184/200\n",
      "18484/18484 [==============================] - 2s 109us/step - loss: 0.5053 - acc: 0.7630\n",
      "Epoch 185/200\n",
      "18484/18484 [==============================] - 2s 110us/step - loss: 0.5055 - acc: 0.7633\n",
      "Epoch 186/200\n",
      "18484/18484 [==============================] - 2s 110us/step - loss: 0.5047 - acc: 0.7653\n",
      "Epoch 187/200\n",
      "18484/18484 [==============================] - 2s 109us/step - loss: 0.5036 - acc: 0.7647\n",
      "Epoch 188/200\n",
      "18484/18484 [==============================] - 2s 110us/step - loss: 0.5027 - acc: 0.7657\n",
      "Epoch 189/200\n",
      "18484/18484 [==============================] - 2s 111us/step - loss: 0.5062 - acc: 0.7618\n",
      "Epoch 190/200\n",
      "18484/18484 [==============================] - 2s 110us/step - loss: 0.5040 - acc: 0.7659\n",
      "Epoch 191/200\n",
      "18484/18484 [==============================] - 2s 110us/step - loss: 0.5038 - acc: 0.7643\n",
      "Epoch 192/200\n",
      "18484/18484 [==============================] - 2s 111us/step - loss: 0.5039 - acc: 0.7643\n",
      "Epoch 193/200\n",
      "18484/18484 [==============================] - 2s 118us/step - loss: 0.5035 - acc: 0.7661\n",
      "Epoch 194/200\n",
      "18484/18484 [==============================] - 2s 113us/step - loss: 0.5020 - acc: 0.7648\n",
      "Epoch 195/200\n",
      "18484/18484 [==============================] - 2s 110us/step - loss: 0.5023 - acc: 0.7678\n",
      "Epoch 196/200\n",
      "18484/18484 [==============================] - 2s 109us/step - loss: 0.5014 - acc: 0.7627\n",
      "Epoch 197/200\n",
      "18484/18484 [==============================] - 2s 110us/step - loss: 0.5025 - acc: 0.7694\n",
      "Epoch 198/200\n",
      "18484/18484 [==============================] - 2s 110us/step - loss: 0.5016 - acc: 0.7656\n",
      "Epoch 199/200\n",
      "18484/18484 [==============================] - 2s 111us/step - loss: 0.5028 - acc: 0.7651\n",
      "Epoch 200/200\n",
      "18484/18484 [==============================] - 2s 110us/step - loss: 0.5010 - acc: 0.7657\n"
     ]
    },
    {
     "data": {
      "text/plain": [
       "<keras.callbacks.History at 0x1a2eb58630>"
      ]
     },
     "execution_count": 156,
     "metadata": {},
     "output_type": "execute_result"
    }
   ],
   "source": [
    "# Fit (train the model)\n",
    "model.fit(X2, Y, nb_epoch = 200, batch_size = 10)"
   ]
  },
  {
   "cell_type": "code",
   "execution_count": 165,
   "metadata": {},
   "outputs": [
    {
     "name": "stdout",
     "output_type": "stream",
     "text": [
      "18484/18484 [==============================] - 0s 23us/step\n",
      "Model acc = 75.95758493703516\n"
     ]
    }
   ],
   "source": [
    "# Evaluate (score) model\n",
    "score = model.evaluate(X2, Y)\n",
    "print('Model {} = {}'.format(model.metrics_names[1], score[1]*100))"
   ]
  },
  {
   "cell_type": "markdown",
   "metadata": {},
   "source": [
    "This is also imrovement, but bot a huge one. Looks like that increasing the number of neurons had a better effect on improving the model accuracy than increasing the number of epochs."
   ]
  },
  {
   "cell_type": "code",
   "execution_count": null,
   "metadata": {},
   "outputs": [],
   "source": []
  }
 ],
 "metadata": {
  "kernelspec": {
   "display_name": "Python 3",
   "language": "python",
   "name": "python3"
  },
  "language_info": {
   "codemirror_mode": {
    "name": "ipython",
    "version": 3
   },
   "file_extension": ".py",
   "mimetype": "text/x-python",
   "name": "python",
   "nbconvert_exporter": "python",
   "pygments_lexer": "ipython3",
   "version": "3.6.5"
  }
 },
 "nbformat": 4,
 "nbformat_minor": 2
}
